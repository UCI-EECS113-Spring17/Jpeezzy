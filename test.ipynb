{
 "cells": [
  {
   "cell_type": "code",
   "execution_count": 14,
   "metadata": {
    "collapsed": false,
    "deletable": true,
    "editable": true
   },
   "outputs": [],
   "source": [
    "from pynq.pl import Overlay\n",
    "Overlay(\"base.bit\").download()\n"
   ]
  },
  {
   "cell_type": "code",
   "execution_count": null,
   "metadata": {
    "collapsed": false,
    "deletable": true,
    "editable": true
   },
   "outputs": [
    {
     "name": "stdout",
     "output_type": "stream",
     "text": [
      "68\n",
      "68\n",
      "68\n",
      "68\n",
      "68\n",
      "68\n",
      "68\n",
      "68\n",
      "68\n",
      "68\n",
      "68\n",
      "68\n",
      "68\n",
      "68\n",
      "68\n",
      "68\n",
      "68\n",
      "68\n",
      "68\n",
      "68\n",
      "68\n",
      "68\n",
      "68\n",
      "68\n"
     ]
    }
   ],
   "source": [
    "import math\n",
    "import time\n",
    "from pynq import MMIO\n",
    "from pynq.iop import Pmod_TMP2\n",
    "from pynq.iop import request_iop\n",
    "from pynq.iop import iop_const\n",
    "from pynq.iop import PMODB\n",
    "from pynq.iop import PMOD_GROVE_G4\n",
    "from subprocess import call  \n",
    "#python script that sends files to dropbox.\n",
    "while(True):\n",
    "    temperatureFile = open(\"temperature.txt\", \"w+\")\n",
    "    tmp = Pmod_TMP2(PMODB)\n",
    "    temperature = tmp.read()\n",
    "    temperature = 9/5 * temperature +32\n",
    "    temperature = int(temperature)\n",
    "    temperatureFile.write(str(temperature))\n",
    "    temperatureFile.close()\n",
    "    print(temperature)\n",
    "    textFile = \"/home/xilinx/Dropbox/Dropbox-Uploader/dropbox_uploader.sh upload /home/xilinx/jupyter_notebooks/temperature.txt temperature.txt\" \n",
    "    call ([textFile], shell=True)  \n",
    "    time.sleep(10)\n"
   ]
  },
  {
   "cell_type": "code",
   "execution_count": null,
   "metadata": {
    "collapsed": false,
    "deletable": true,
    "editable": true
   },
   "outputs": [],
   "source": []
  },
  {
   "cell_type": "code",
   "execution_count": 17,
   "metadata": {
    "collapsed": false,
    "deletable": true,
    "editable": true
   },
   "outputs": [
    {
     "ename": "LookupError",
     "evalue": "Another program /opt/python3.6/lib/python3.6/site-packages/pynq/iop/pmod_grove_adc.bin already running on IOP.",
     "output_type": "error",
     "traceback": [
      "\u001b[0;31m---------------------------------------------------------------------------\u001b[0m",
      "\u001b[0;31mLookupError\u001b[0m                               Traceback (most recent call last)",
      "\u001b[0;32m<ipython-input-17-3825c36a1464>\u001b[0m in \u001b[0;36m<module>\u001b[0;34m()\u001b[0m\n\u001b[1;32m      3\u001b[0m \u001b[0;32mfrom\u001b[0m \u001b[0mpynq\u001b[0m\u001b[0;34m.\u001b[0m\u001b[0miop\u001b[0m \u001b[0;32mimport\u001b[0m \u001b[0mPmod_ADC\u001b[0m\u001b[0;34m,\u001b[0m \u001b[0mPmod_DAC\u001b[0m\u001b[0;34m\u001b[0m\u001b[0m\n\u001b[1;32m      4\u001b[0m \u001b[0;32mfrom\u001b[0m \u001b[0mpynq\u001b[0m\u001b[0;34m.\u001b[0m\u001b[0miop\u001b[0m \u001b[0;32mimport\u001b[0m \u001b[0mPMODA\u001b[0m\u001b[0;34m,\u001b[0m\u001b[0mPMODB\u001b[0m\u001b[0;34m\u001b[0m\u001b[0m\n\u001b[0;32m----> 5\u001b[0;31m \u001b[0mdac\u001b[0m \u001b[0;34m=\u001b[0m \u001b[0mPmod_DAC\u001b[0m\u001b[0;34m(\u001b[0m\u001b[0mPMODB\u001b[0m\u001b[0;34m)\u001b[0m\u001b[0;34m\u001b[0m\u001b[0m\n\u001b[0m",
      "\u001b[0;32m/opt/python3.6/lib/python3.6/site-packages/pynq/iop/pmod_dac.py\u001b[0m in \u001b[0;36m__init__\u001b[0;34m(self, if_id, value)\u001b[0m\n\u001b[1;32m     76\u001b[0m             \u001b[0;32mraise\u001b[0m \u001b[0mValueError\u001b[0m\u001b[0;34m(\u001b[0m\u001b[0;34m\"No such IOP for Pmod device.\"\u001b[0m\u001b[0;34m)\u001b[0m\u001b[0;34m\u001b[0m\u001b[0m\n\u001b[1;32m     77\u001b[0m \u001b[0;34m\u001b[0m\u001b[0m\n\u001b[0;32m---> 78\u001b[0;31m         \u001b[0mself\u001b[0m\u001b[0;34m.\u001b[0m\u001b[0miop\u001b[0m \u001b[0;34m=\u001b[0m \u001b[0mrequest_iop\u001b[0m\u001b[0;34m(\u001b[0m\u001b[0mif_id\u001b[0m\u001b[0;34m,\u001b[0m \u001b[0mPMOD_DAC_PROGRAM\u001b[0m\u001b[0;34m)\u001b[0m\u001b[0;34m\u001b[0m\u001b[0m\n\u001b[0m\u001b[1;32m     79\u001b[0m         \u001b[0mself\u001b[0m\u001b[0;34m.\u001b[0m\u001b[0mmmio\u001b[0m \u001b[0;34m=\u001b[0m \u001b[0mself\u001b[0m\u001b[0;34m.\u001b[0m\u001b[0miop\u001b[0m\u001b[0;34m.\u001b[0m\u001b[0mmmio\u001b[0m\u001b[0;34m\u001b[0m\u001b[0m\n\u001b[1;32m     80\u001b[0m \u001b[0;34m\u001b[0m\u001b[0m\n",
      "\u001b[0;32m/opt/python3.6/lib/python3.6/site-packages/pynq/iop/iop.py\u001b[0m in \u001b[0;36mrequest_iop\u001b[0;34m(iop_id, mb_program)\u001b[0m\n\u001b[1;32m    255\u001b[0m         \u001b[0;31m# case 2\u001b[0m\u001b[0;34m\u001b[0m\u001b[0;34m\u001b[0m\u001b[0m\n\u001b[1;32m    256\u001b[0m         raise LookupError('Another program {} already running on IOP.'\n\u001b[0;32m--> 257\u001b[0;31m                           .format(ip_state))\n\u001b[0m",
      "\u001b[0;31mLookupError\u001b[0m: Another program /opt/python3.6/lib/python3.6/site-packages/pynq/iop/pmod_grove_adc.bin already running on IOP."
     ]
    }
   ],
   "source": [
    "\n",
    "from pynq import Overlay\n",
    "from pynq.iop import Pmod_ADC, Pmod_DAC\n",
    "from pynq.iop import PMODA,PMODB\n",
    "dac = Pmod_DAC(PMODB)"
   ]
  },
  {
   "cell_type": "code",
   "execution_count": null,
   "metadata": {
    "collapsed": true,
    "deletable": true,
    "editable": true
   },
   "outputs": [],
   "source": []
  }
 ],
 "metadata": {
  "kernelspec": {
   "display_name": "Python 3",
   "language": "python",
   "name": "python3"
  },
  "language_info": {
   "codemirror_mode": {
    "name": "ipython",
    "version": 3
   },
   "file_extension": ".py",
   "mimetype": "text/x-python",
   "name": "python",
   "nbconvert_exporter": "python",
   "pygments_lexer": "ipython3",
   "version": "3.6.0"
  }
 },
 "nbformat": 4,
 "nbformat_minor": 2
}
